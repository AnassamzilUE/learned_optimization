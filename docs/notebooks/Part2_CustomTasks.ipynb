{
  "cells": [
    {
      "cell_type": "markdown",
      "id": "20970d65",
      "metadata": {
        "id": "20970d65"
      },
      "source": [
        "# Part 2: Custom Tasks, Task Families, and Performance Improvements\n",
        "\n",
        "In this part, we will look at how to define custom tasks and datasets. We will also consider _families_ of tasks, which are common specifications of meta-learning problems. Finally, we will look at how to efficiently parallelize over tasks during training."
      ]
    },
    {
      "cell_type": "markdown",
      "id": "ef075664",
      "metadata": {
        "id": "ef075664"
      },
      "source": [
        "## Prerequisites\n",
        "\n",
        "This document assumes knowledge of JAX which is covered in depth at the [JAX Docs](https://jax.readthedocs.io/en/latest/index.html).\n",
        "In particular, we would recomend making your way through [JAX tutorial 101](https://jax.readthedocs.io/en/latest/jax-101/index.html). We also recommend that you have worked your way through Part 1."
      ]
    },
    {
      "cell_type": "code",
      "execution_count": 22,
      "id": "f560fa24",
      "metadata": {
        "id": "f560fa24",
        "colab": {
          "base_uri": "https://localhost:8080/"
        },
        "outputId": "37da4847-bebf-4065-c89d-b2bac1b41a47"
      },
      "outputs": [
        {
          "output_type": "stream",
          "name": "stdout",
          "text": [
            "fatal: destination path 'learned_optimization' already exists and is not an empty directory.\n",
            "/content/learned_optimization/learned_optimization\n"
          ]
        }
      ],
      "source": [
        "#!pip install git+https://github.com/google/learned_optimization.git\n",
        "!git clone https://github.com/google/learned_optimization.git\n",
        "%cd learned_optimization\n"
      ]
    },
    {
      "source": [
        "!pip install dm-haiku"
      ],
      "cell_type": "code",
      "metadata": {
        "id": "qYS0ueTJAh5-",
        "outputId": "92a8fb29-1a48-497f-92dc-4d7546e73cd6",
        "colab": {
          "base_uri": "https://localhost:8080/"
        }
      },
      "id": "qYS0ueTJAh5-",
      "execution_count": 23,
      "outputs": [
        {
          "output_type": "stream",
          "name": "stdout",
          "text": [
            "Requirement already satisfied: dm-haiku in /usr/local/lib/python3.11/dist-packages (0.0.13)\n",
            "Requirement already satisfied: absl-py>=0.7.1 in /usr/local/lib/python3.11/dist-packages (from dm-haiku) (1.4.0)\n",
            "Requirement already satisfied: jmp>=0.0.2 in /usr/local/lib/python3.11/dist-packages (from dm-haiku) (0.0.4)\n",
            "Requirement already satisfied: numpy>=1.18.0 in /usr/local/lib/python3.11/dist-packages (from dm-haiku) (2.0.2)\n",
            "Requirement already satisfied: tabulate>=0.8.9 in /usr/local/lib/python3.11/dist-packages (from dm-haiku) (0.9.0)\n"
          ]
        }
      ]
    },
    {
      "cell_type": "markdown",
      "source": [],
      "metadata": {
        "id": "2MeL_HhIBidp"
      },
      "id": "2MeL_HhIBidp"
    },
    {
      "cell_type": "code",
      "execution_count": 24,
      "id": "04db154b",
      "metadata": {
        "id": "04db154b",
        "colab": {
          "base_uri": "https://localhost:8080/"
        },
        "outputId": "d970044b-8a1c-497c-a4c6-b1591443b779"
      },
      "outputs": [
        {
          "output_type": "stream",
          "name": "stdout",
          "text": [
            "Requirement already satisfied: oryx in /usr/local/lib/python3.11/dist-packages (0.2.9)\n",
            "Requirement already satisfied: jax>=0.4.36 in /usr/local/lib/python3.11/dist-packages (from oryx) (0.5.2)\n",
            "Requirement already satisfied: tensorflow-probability>=0.19.0 in /usr/local/lib/python3.11/dist-packages (from oryx) (0.25.0)\n",
            "Requirement already satisfied: jaxlib<=0.5.2,>=0.5.1 in /usr/local/lib/python3.11/dist-packages (from jax>=0.4.36->oryx) (0.5.1)\n",
            "Requirement already satisfied: ml_dtypes>=0.4.0 in /usr/local/lib/python3.11/dist-packages (from jax>=0.4.36->oryx) (0.4.1)\n",
            "Requirement already satisfied: numpy>=1.25 in /usr/local/lib/python3.11/dist-packages (from jax>=0.4.36->oryx) (2.0.2)\n",
            "Requirement already satisfied: opt_einsum in /usr/local/lib/python3.11/dist-packages (from jax>=0.4.36->oryx) (3.4.0)\n",
            "Requirement already satisfied: scipy>=1.11.1 in /usr/local/lib/python3.11/dist-packages (from jax>=0.4.36->oryx) (1.14.1)\n",
            "Requirement already satisfied: absl-py in /usr/local/lib/python3.11/dist-packages (from tensorflow-probability>=0.19.0->oryx) (1.4.0)\n",
            "Requirement already satisfied: six>=1.10.0 in /usr/local/lib/python3.11/dist-packages (from tensorflow-probability>=0.19.0->oryx) (1.17.0)\n",
            "Requirement already satisfied: decorator in /usr/local/lib/python3.11/dist-packages (from tensorflow-probability>=0.19.0->oryx) (4.4.2)\n",
            "Requirement already satisfied: cloudpickle>=1.3 in /usr/local/lib/python3.11/dist-packages (from tensorflow-probability>=0.19.0->oryx) (3.1.1)\n",
            "Requirement already satisfied: gast>=0.3.2 in /usr/local/lib/python3.11/dist-packages (from tensorflow-probability>=0.19.0->oryx) (0.6.0)\n",
            "Requirement already satisfied: dm-tree in /usr/local/lib/python3.11/dist-packages (from tensorflow-probability>=0.19.0->oryx) (0.1.9)\n",
            "Requirement already satisfied: attrs>=18.2.0 in /usr/local/lib/python3.11/dist-packages (from dm-tree->tensorflow-probability>=0.19.0->oryx) (25.3.0)\n",
            "Requirement already satisfied: wrapt>=1.11.2 in /usr/local/lib/python3.11/dist-packages (from dm-tree->tensorflow-probability>=0.19.0->oryx) (1.17.2)\n"
          ]
        }
      ],
      "source": [
        "import numpy as np\n",
        "import jax.numpy as jnp\n",
        "import jax\n",
        "from matplotlib import pylab as plt\n",
        "\n",
        "from learned_optimization.outer_trainers import full_es\n",
        "from learned_optimization.outer_trainers import truncated_pes\n",
        "from learned_optimization.outer_trainers import gradient_learner\n",
        "from learned_optimization.outer_trainers import truncation_schedule\n",
        "\n",
        "from learned_optimization.tasks import quadratics\n",
        "from learned_optimization.tasks.fixed import image_mlp\n",
        "from learned_optimization.tasks import base as tasks_base\n",
        "from learned_optimization.tasks.datasets import base as datasets_base\n",
        "\n",
        "from learned_optimization.learned_optimizers import base as lopt_base\n",
        "from learned_optimization.learned_optimizers import mlp_lopt\n",
        "from learned_optimization.optimizers import base as opt_base\n",
        "\n",
        "from learned_optimization import optimizers\n",
        "from learned_optimization import eval_training\n",
        "\n",
        "import haiku as hk\n",
        "import tqdm\n",
        "!pip install oryx\n"
      ]
    },
    {
      "cell_type": "markdown",
      "id": "707298d0",
      "metadata": {
        "id": "707298d0"
      },
      "source": [
        "## Defining a custom Dataset\n",
        "\n",
        "The dataset's in this library consists of iterators which yield batches of the corresponding data. For the provided tasks, these dataset have 4 splits of data rather than the traditional 3. We have \"train\" which is data used by the task to train a model, \"inner_valid\" which contains validation data for use when inner training (training an instance of a task). This could be use for, say, picking hparams. \"outer_valid\" which is used to meta-train with -- this is unseen in inner training and thus serves as a basis to train learned optimizers against. \"test\" which can be used to test the learned optimizer with.\n",
        "\n",
        "To make a dataset, simply write 4 iterators with these splits.\n",
        "\n",
        "For performance reasons, creating these iterators cannot be slow.\n",
        "The existing dataset's make extensive use of caching to share iterators across tasks which use the same data iterators.\n",
        "To account for this reuse, it is expected that these iterators are always randomly sampling data and have a large shuffle buffer so as to not run into any sampling issues."
      ]
    },
    {
      "cell_type": "code",
      "execution_count": 25,
      "id": "df73c83b",
      "metadata": {
        "id": "df73c83b",
        "outputId": "33f4851b-7e1b-4146-f081-73d35ebbba39",
        "colab": {
          "base_uri": "https://localhost:8080/"
        }
      },
      "outputs": [
        {
          "output_type": "execute_result",
          "data": {
            "text/plain": [
              "{'data': array([[0., 0., 0., 0., 0.],\n",
              "        [0., 0., 0., 0., 0.],\n",
              "        [0., 0., 0., 0., 0.]])}"
            ]
          },
          "metadata": {},
          "execution_count": 25
        }
      ],
      "source": [
        "import numpy as np\n",
        "\n",
        "\n",
        "def data_iterator():\n",
        "  bs = 3\n",
        "  while True:\n",
        "    batch = {\"data\": np.zeros([bs, 5])}\n",
        "    yield batch\n",
        "\n",
        "\n",
        "@datasets_base.dataset_lru_cache\n",
        "def get_datasets():\n",
        "  return datasets_base.Datasets(\n",
        "      train=data_iterator(),\n",
        "      inner_valid=data_iterator(),\n",
        "      outer_valid=data_iterator(),\n",
        "      test=data_iterator())\n",
        "\n",
        "\n",
        "ds = get_datasets()\n",
        "next(ds.train)"
      ]
    },
    {
      "cell_type": "markdown",
      "id": "410f2024",
      "metadata": {
        "id": "410f2024"
      },
      "source": [
        "## Defining a custom `Task`\n",
        "\n",
        "To define a custom class, one simply needs to write a base class of `Task`. Let's look at a simple task consisting of a quadratic task with noisy targets."
      ]
    },
    {
      "cell_type": "code",
      "execution_count": 26,
      "id": "27dbabeb",
      "metadata": {
        "id": "27dbabeb",
        "outputId": "bbeb3d99-3a55-4966-a93c-4d7744faf30e",
        "colab": {
          "base_uri": "https://localhost:8080/"
        }
      },
      "outputs": [
        {
          "output_type": "execute_result",
          "data": {
            "text/plain": [
              "Array(26.102028, dtype=float32)"
            ]
          },
          "metadata": {},
          "execution_count": 26
        }
      ],
      "source": [
        "# First we construct data iterators.\n",
        "def noise_datasets():\n",
        "\n",
        "  def _fn():\n",
        "    while True:\n",
        "      yield np.random.normal(size=[4, 2]).astype(dtype=np.float32)\n",
        "\n",
        "  return datasets_base.Datasets(\n",
        "      train=_fn(), inner_valid=_fn(), outer_valid=_fn(), test=_fn())\n",
        "\n",
        "\n",
        "class MyTask(tasks_base.Task):\n",
        "  datasets = noise_datasets()\n",
        "\n",
        "  def loss(self, params, rng, data):\n",
        "    return jnp.sum(jnp.square(params - data))\n",
        "\n",
        "  def init(self, key):\n",
        "    return jax.random.normal(key, shape=(4, 2))\n",
        "\n",
        "\n",
        "task = MyTask()\n",
        "key = jax.random.PRNGKey(0)\n",
        "key1, key = jax.random.split(key)\n",
        "params = task.init(key)\n",
        "\n",
        "task.loss(params, key1, next(task.datasets.train))"
      ]
    },
    {
      "cell_type": "markdown",
      "id": "a16e5e3b",
      "metadata": {
        "id": "a16e5e3b"
      },
      "source": [
        "## Meta-training on multiple tasks: `TaskFamily`\n",
        "\n",
        "What we have shown previously was meta-training on a single task instance.\n",
        "While sometimes this is sufficient for a given situation, in many situations we seek to meta-train a meta-learning algorithm such as a learned optimizer on a mixture of different tasks.\n",
        "\n",
        "One path to do this is to simply run more than one meta-gradient computation, each with different tasks, average the gradients, and perform one meta-update.\n",
        "This works great when the tasks are quite different -- e.g. meta-gradients when training a convnet vs a MLP.\n",
        "A big negative to this is that these meta-gradient calculations are happening sequentially, and thus making poor use of hardware accelerators like GPU or TPU.\n",
        "\n",
        "As a solution to this problem, we have an abstraction of a `TaskFamily` to enable better use of hardware. A `TaskFamily` represents a distribution over a set of tasks and specifies particular samples from this distribution as a pytree of jax types.\n",
        "\n",
        "The function to sample these configurations is called `sample`, and the function to get a task from the sampled config is `task_fn`. `TaskFamily` also optionally contain datasets which are shared for all the `Task` it creates.\n",
        "\n",
        "As a simple example, let's consider a family of quadratics parameterized by meansquared error to some point which itself is sampled."
      ]
    },
    {
      "cell_type": "code",
      "execution_count": 27,
      "id": "f1c7d7f8",
      "metadata": {
        "id": "f1c7d7f8"
      },
      "outputs": [],
      "source": [
        "PRNGKey = jnp.ndarray\n",
        "TaskParams = jnp.ndarray\n",
        "\n",
        "\n",
        "class FixedDimQuadraticFamily(tasks_base.TaskFamily):\n",
        "  \"\"\"A simple TaskFamily with a fixed dimensionality but sampled target.\"\"\"\n",
        "\n",
        "  def __init__(self, dim: int):\n",
        "    super().__init__()\n",
        "    self._dim = dim\n",
        "    self.datasets = None\n",
        "\n",
        "  def sample(self, key: PRNGKey) -> TaskParams:\n",
        "    # Sample the target for the quadratic task.\n",
        "    return jax.random.normal(key, shape=(self._dim,))\n",
        "\n",
        "  def task_fn(self, task_params: TaskParams) -> tasks_base.Task:\n",
        "    dim = self._dim\n",
        "\n",
        "    class _Task(tasks_base.Task):\n",
        "\n",
        "      def loss(self, params, rng, _):\n",
        "        # Compute MSE to the target task.\n",
        "        return jnp.sum(jnp.square(task_params - params))\n",
        "\n",
        "      def init(self, key):\n",
        "        return jax.random.normal(key, shape=(dim,))\n",
        "\n",
        "    return _Task()\n",
        "\n",
        "class ZDT1TaskFamily(tasks_base.TaskFamily):\n",
        "    def __init__(self, dim=30):\n",
        "        super().__init__()\n",
        "        self._dim = dim\n",
        "\n",
        "    def sample(self, key):\n",
        "        return None  # pas de paramètre particulier\n",
        "\n",
        "    def task_fn(self, _):\n",
        "        return ZDT1Task(self._dim)\n",
        "class ZDT1Task(tasks_base.Task):\n",
        "    def __init__(self, dim):\n",
        "        self._dim = dim\n",
        "\n",
        "    def init(self, key):\n",
        "        return jax.random.uniform(key, shape=(self._dim,), minval=0.0, maxval=1.0)\n",
        "\n",
        "    def loss(self, params, key, data=None):\n",
        "        # On calcule les deux objectifs f1 et f2\n",
        "        f1 = params[0]\n",
        "        g = 1.0 + 9.0 * jnp.sum(params[1:]) / (self._dim - 1)\n",
        "        h = 1.0 - jnp.sqrt(f1 / g)\n",
        "        f2 = g * h\n",
        "\n",
        "        # SCALARISATION LINEAIRE : on choisit arbitrairement w1=0.5, w2=0.5\n",
        "        scalarized_loss = 0.5 * f1 + 0.5 * f2\n",
        "\n",
        "        return scalarized_loss\n"
      ]
    },
    {
      "cell_type": "markdown",
      "id": "37652293",
      "metadata": {
        "id": "37652293"
      },
      "source": [
        "*With* this task family defined, we can create instances by sampling a configuration and creating a task. This task acts like any other task in that it has an `init` and a `loss` function."
      ]
    },
    {
      "cell_type": "code",
      "execution_count": 28,
      "id": "fba3b113",
      "metadata": {
        "id": "fba3b113",
        "outputId": "4ee2b473-44f7-4ade-bd8a-8e05e32bb922",
        "colab": {
          "base_uri": "https://localhost:8080/"
        }
      },
      "outputs": [
        {
          "output_type": "execute_result",
          "data": {
            "text/plain": [
              "Array(48.277, dtype=float32)"
            ]
          },
          "metadata": {},
          "execution_count": 28
        }
      ],
      "source": [
        "task_family = FixedDimQuadraticFamily(10)\n",
        "key = jax.random.PRNGKey(0)\n",
        "task_cfg = task_family.sample(key)\n",
        "task = task_family.task_fn(task_cfg)\n",
        "\n",
        "key1, key = jax.random.split(key)\n",
        "params = task.init(key)\n",
        "batch = None\n",
        "task.loss(params, key, batch)"
      ]
    },
    {
      "cell_type": "markdown",
      "id": "8b25914f",
      "metadata": {
        "id": "8b25914f"
      },
      "source": [
        "To achive speedups, we can now leverage `jax.vmap` to train *multiple* task instances in parallel! Depending on the task, this can be considerably faster than serially executing them."
      ]
    },
    {
      "cell_type": "code",
      "execution_count": 29,
      "id": "7dded1ea",
      "metadata": {
        "id": "7dded1ea",
        "outputId": "f47a38c7-cafa-46d2-adb4-26601cd0eca2",
        "colab": {
          "base_uri": "https://localhost:8080/"
        }
      },
      "outputs": [
        {
          "output_type": "stream",
          "name": "stdout",
          "text": [
            "single loss 18.214954\n",
            "multiple losses [ 2.8170602 10.142114  14.761778  23.247692  16.302574  21.237566\n",
            " 21.430893  15.900445  20.618113   8.978045  22.02934   11.658101\n",
            " 27.078705  10.773317  21.98583   20.727951   9.322435  75.87089\n",
            " 20.872551  14.829137  16.828785   7.5891085 46.468025  14.948075\n",
            " 17.866491  20.287266   2.4742956 14.716241  18.888268  15.309628\n",
            " 12.353992  15.238528 ]\n"
          ]
        }
      ],
      "source": [
        "def train_task(cfg, key):\n",
        "  task = task_family.task_fn(cfg)\n",
        "  key1, key = jax.random.split(key)\n",
        "  params = task.init(key1)\n",
        "  opt = opt_base.Adam()\n",
        "\n",
        "  opt_state = opt.init(params)\n",
        "\n",
        "  for i in range(4):\n",
        "    params = opt.get_params(opt_state)\n",
        "    loss, grad = jax.value_and_grad(task.loss)(params, key, None)\n",
        "    opt_state = opt.update(opt_state, grad, loss=loss)\n",
        "  loss = task.loss(params, key, None)\n",
        "  return loss\n",
        "\n",
        "\n",
        "task_cfg = task_family.sample(key)\n",
        "print(\"single loss\", train_task(task_cfg, key))\n",
        "\n",
        "keys = jax.random.split(key, 32)\n",
        "task_cfgs = jax.vmap(task_family.sample)(keys)\n",
        "losses = jax.vmap(train_task)(task_cfgs, keys)\n",
        "print(\"multiple losses\", losses)"
      ]
    },
    {
      "cell_type": "markdown",
      "id": "79f74adc",
      "metadata": {
        "id": "79f74adc"
      },
      "source": [
        "Because of this ability to apply vmap over task families, this is the main building block for a number of the high level libraries in this package. Single tasks can always be converted to a task family with:"
      ]
    },
    {
      "cell_type": "code",
      "execution_count": 30,
      "id": "6cd2f682",
      "metadata": {
        "id": "6cd2f682"
      },
      "outputs": [],
      "source": [
        "single_task = image_mlp.ImageMLP_FashionMnist8_Relu32()\n",
        "task_family = tasks_base.single_task_to_family(single_task)"
      ]
    },
    {
      "cell_type": "markdown",
      "id": "905293c1",
      "metadata": {
        "id": "905293c1"
      },
      "source": [
        "This wrapper task family has no configuable value and always returns the base task."
      ]
    },
    {
      "cell_type": "code",
      "execution_count": 31,
      "id": "cb049afb",
      "metadata": {
        "id": "cb049afb",
        "outputId": "d06989c0-dffc-4d70-aa08-6ebfb3d7e59f",
        "colab": {
          "base_uri": "https://localhost:8080/"
        }
      },
      "outputs": [
        {
          "output_type": "stream",
          "name": "stdout",
          "text": [
            "config only contains a dummy value: 0\n"
          ]
        }
      ],
      "source": [
        "cfg = task_family.sample(key)\n",
        "print(\"config only contains a dummy value:\", cfg)\n",
        "task = task_family.task_fn(cfg)\n",
        "# Tasks are the same\n",
        "assert task == single_task"
      ]
    },
    {
      "cell_type": "markdown",
      "id": "760f8e76",
      "metadata": {
        "id": "760f8e76"
      },
      "source": [
        "## Limitations of `TaskFamily`\n",
        "Task families are designed for, and only work for variation that results in a static computation graph. This is required for `jax.vmap` to work.\n",
        "\n",
        "This means things like naively changing hidden sizes, or number of layers, activation functions is off the table.\n",
        "\n",
        "In some cases, one can leverage other jax control flow such as `jax.lax.cond` to select between implementations. For example, one could make a `TaskFamily` that used one of 2 activation functions. While this works, the resulting vectorized computation could be slow and thus profiling is required to determine if this is a good idea or not.\n",
        "\n",
        "In this code base, we use `TaskFamily` to mainly parameterize over different kinds of initializations."
      ]
    },
    {
      "cell_type": "markdown",
      "source": [],
      "metadata": {
        "id": "tpYhOqCvCkVR"
      },
      "id": "tpYhOqCvCkVR"
    },
    {
      "cell_type": "code",
      "source": [
        "if __name__ == \"__main__\":\n",
        "    import matplotlib.pyplot as plt\n",
        "    from optax import adam\n",
        "    import optax # Import optax here\n",
        "\n",
        "    # 1. Créer ta tâche\n",
        "    task_family = ZDT1TaskFamily(dim=30)\n",
        "    task = task_family.task_fn(None)\n",
        "\n",
        "    # 2. Initialiser les paramètres de la tâche\n",
        "    key = jax.random.PRNGKey(0)\n",
        "    params = task.init(key)\n",
        "\n",
        "    # 3. Initialiser l'optimiseur Adam\n",
        "    opt = adam(learning_rate=0.01)\n",
        "    opt_state = opt.init(params)\n",
        "\n",
        "    # 4. Lancer une boucle d’optimisation\n",
        "    losses = []\n",
        "    for step in range(100):\n",
        "        loss_value, grads = jax.value_and_grad(task.loss)(params, key)\n",
        "        updates, opt_state = opt.update(grads, opt_state)\n",
        "        params = optax.apply_updates(params, updates)\n",
        "\n",
        "        losses.append(loss_value)\n",
        "\n",
        "    # 5. Afficher l’évolution de la perte\n",
        "    plt.plot(losses)\n",
        "    plt.title(\"Évolution de la perte scalarisée ZDT1 (Adam)\")\n",
        "    plt.xlabel(\"Itération\")\n",
        "    plt.ylabel(\"Loss (0.5*f1 + 0.5*f2)\")\n",
        "    plt.grid()\n",
        "    plt.show()\n"
      ],
      "metadata": {
        "id": "L7K6ewO9Ciw4",
        "outputId": "58e509a4-1172-476a-ce73-62941da2a782",
        "colab": {
          "base_uri": "https://localhost:8080/",
          "height": 474
        }
      },
      "id": "L7K6ewO9Ciw4",
      "execution_count": 33,
      "outputs": [
        {
          "output_type": "display_data",
          "data": {
            "text/plain": [
              "<Figure size 640x480 with 1 Axes>"
            ],
            "image/png": "[encoded data removed]"
          },
          "metadata": {}
        }
      ]
    },
    {
      "cell_type": "markdown",
      "source": [],
      "metadata": {
        "id": "B1V6aAQcClAS"
      },
      "id": "B1V6aAQcClAS"
    }
  ],
  "metadata": {
    "colab": {
      "name": "Part2_CustomTasks.ipynb",
      "provenance": []
    },
    "jupytext": {
      "formats": "ipynb,md:myst,py",
      "main_language": "python"
    },
    "kernelspec": {
      "display_name": "Python 3",
      "name": "python3"
    }
  },
  "nbformat": 4,
  "nbformat_minor": 5
}